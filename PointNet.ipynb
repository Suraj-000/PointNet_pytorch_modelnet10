{
  "cells": [
    {
      "cell_type": "code",
      "execution_count": 1,
      "metadata": {
        "colab": {
          "base_uri": "https://localhost:8080/"
        },
        "id": "uKtWIebQuku-",
        "outputId": "14620e54-323c-4ae4-b613-3c081d0c6852"
      },
      "outputs": [
        {
          "name": "stdout",
          "output_type": "stream",
          "text": [
            "Collecting trimesh\n",
            "  Downloading trimesh-3.23.5-py3-none-any.whl (685 kB)\n",
            "\u001b[?25l     \u001b[90m━━━━━━━━━━━━━━━━━━━━━━━━━━━━━━━━━━━━━━━━\u001b[0m \u001b[32m0.0/685.4 kB\u001b[0m \u001b[31m?\u001b[0m eta \u001b[36m-:--:--\u001b[0m\r\u001b[2K     \u001b[91m━━\u001b[0m\u001b[90m╺\u001b[0m\u001b[90m━━━━━━━━━━━━━━━━━━━━━━━━━━━━━━━━━━━\u001b[0m \u001b[32m41.0/685.4 kB\u001b[0m \u001b[31m938.2 kB/s\u001b[0m eta \u001b[36m0:00:01\u001b[0m\r\u001b[2K     \u001b[91m━━━━━━━━━━━━\u001b[0m\u001b[91m╸\u001b[0m\u001b[90m━━━━━━━━━━━━━━━━━━━━━━━━━━\u001b[0m \u001b[32m225.3/685.4 kB\u001b[0m \u001b[31m3.1 MB/s\u001b[0m eta \u001b[36m0:00:01\u001b[0m\r\u001b[2K     \u001b[90m━━━━━━━━━━━━━━━━━━━━━━━━━━━━━━━━━━━━━━━\u001b[0m \u001b[32m685.4/685.4 kB\u001b[0m \u001b[31m7.7 MB/s\u001b[0m eta \u001b[36m0:00:00\u001b[0m\n",
            "\u001b[?25hRequirement already satisfied: numpy in /usr/local/lib/python3.10/dist-packages (from trimesh) (1.23.5)\n",
            "Installing collected packages: trimesh\n",
            "Successfully installed trimesh-3.23.5\n",
            "Collecting path\n",
            "  Downloading path-16.7.1-py3-none-any.whl (25 kB)\n",
            "Installing collected packages: path\n",
            "Successfully installed path-16.7.1\n",
            "Collecting thop\n",
            "  Downloading thop-0.1.1.post2209072238-py3-none-any.whl (15 kB)\n",
            "Requirement already satisfied: torch in /usr/local/lib/python3.10/dist-packages (from thop) (2.0.1+cu118)\n",
            "Requirement already satisfied: filelock in /usr/local/lib/python3.10/dist-packages (from torch->thop) (3.12.2)\n",
            "Requirement already satisfied: typing-extensions in /usr/local/lib/python3.10/dist-packages (from torch->thop) (4.7.1)\n",
            "Requirement already satisfied: sympy in /usr/local/lib/python3.10/dist-packages (from torch->thop) (1.12)\n",
            "Requirement already satisfied: networkx in /usr/local/lib/python3.10/dist-packages (from torch->thop) (3.1)\n",
            "Requirement already satisfied: jinja2 in /usr/local/lib/python3.10/dist-packages (from torch->thop) (3.1.2)\n",
            "Requirement already satisfied: triton==2.0.0 in /usr/local/lib/python3.10/dist-packages (from torch->thop) (2.0.0)\n",
            "Requirement already satisfied: cmake in /usr/local/lib/python3.10/dist-packages (from triton==2.0.0->torch->thop) (3.27.2)\n",
            "Requirement already satisfied: lit in /usr/local/lib/python3.10/dist-packages (from triton==2.0.0->torch->thop) (16.0.6)\n",
            "Requirement already satisfied: MarkupSafe>=2.0 in /usr/local/lib/python3.10/dist-packages (from jinja2->torch->thop) (2.1.3)\n",
            "Requirement already satisfied: mpmath>=0.19 in /usr/local/lib/python3.10/dist-packages (from sympy->torch->thop) (1.3.0)\n",
            "Installing collected packages: thop\n",
            "Successfully installed thop-0.1.1.post2209072238\n",
            "--2023-08-28 13:12:43--  http://3dvision.princeton.edu/projects/2014/3DShapeNets/ModelNet10.zip\n",
            "Resolving 3dvision.princeton.edu (3dvision.princeton.edu)... 128.112.136.67\n",
            "Connecting to 3dvision.princeton.edu (3dvision.princeton.edu)|128.112.136.67|:80... connected.\n",
            "HTTP request sent, awaiting response... 302 Found\n",
            "Location: https://3dvision.princeton.edu/projects/2014/3DShapeNets/ModelNet10.zip [following]\n",
            "--2023-08-28 13:12:44--  https://3dvision.princeton.edu/projects/2014/3DShapeNets/ModelNet10.zip\n",
            "Connecting to 3dvision.princeton.edu (3dvision.princeton.edu)|128.112.136.67|:443... connected.\n",
            "HTTP request sent, awaiting response... 200 OK\n",
            "Length: 473402300 (451M) [application/zip]\n",
            "Saving to: ‘ModelNet10.zip’\n",
            "\n",
            "ModelNet10.zip      100%[===================>] 451.47M  12.5MB/s    in 38s     \n",
            "\n",
            "2023-08-28 13:13:23 (11.8 MB/s) - ‘ModelNet10.zip’ saved [473402300/473402300]\n",
            "\n"
          ]
        }
      ],
      "source": [
        "!pip install trimesh\n",
        "!pip install path\n",
        "!pip install thop\n",
        "!wget http://3dvision.princeton.edu/projects/2014/3DShapeNets/ModelNet10.zip\n",
        "!unzip -q ModelNet10.zip;"
      ]
    },
    {
      "cell_type": "code",
      "execution_count": 2,
      "metadata": {
        "id": "7hTdd3j-17l3"
      },
      "outputs": [],
      "source": [
        "import trimesh\n",
        "from path import Path\n",
        "import numpy as np\n",
        "import math\n",
        "import random\n",
        "import os\n",
        "import torch\n",
        "from glob import glob\n",
        "import scipy.spatial.distance\n",
        "from torch.utils.data import Dataset, DataLoader\n",
        "from torchvision import transforms, utils\n",
        "import plotly.graph_objects as go\n",
        "import torch\n",
        "import torch.nn as nn\n",
        "import numpy as np\n",
        "import torch.nn.functional as F\n",
        "from sklearn.metrics import confusion_matrix\n",
        "from tqdm import tqdm\n",
        "from torchsummary import summary\n",
        "from thop import profile\n",
        "import matplotlib.pyplot as plt\n",
        "import seaborn as sns"
      ]
    },
    {
      "cell_type": "code",
      "execution_count": 3,
      "metadata": {
        "id": "dTKkIQ5C2HHx"
      },
      "outputs": [],
      "source": [
        "if torch.cuda.is_available():\n",
        "  if_cuda=True\n",
        "else:\n",
        "  if_cuda=False\n",
        "seed_value=0\n",
        "np.random.seed(seed_value) # cpu vars\n",
        "torch.manual_seed(seed_value) # cpu  vars\n",
        "random.seed(seed_value) # Python\n",
        "os.environ['PYTHONHASHSEED']=str(seed_value)\n",
        "if if_cuda:\n",
        "    torch.cuda.manual_seed(seed_value)\n",
        "    torch.cuda.manual_seed_all(seed_value) # gpu vars\n",
        "    torch.backends.cudnn.deterministic = True\n",
        "    torch.backends.cudnn.benchmark = False"
      ]
    },
    {
      "cell_type": "code",
      "execution_count": 4,
      "metadata": {
        "id": "SLH8UTzl2KMh"
      },
      "outputs": [],
      "source": [
        "class SamplePoints:\n",
        "    def randomSample(self):\n",
        "        indexes = random.sample(range(self.points.shape[0]), self.npoint)\n",
        "        return self.points[indexes]\n",
        "\n",
        "    def farthestPointSample(self):\n",
        "        N, D = self.points.shape\n",
        "        xyz = self.points[:,:3]\n",
        "        centroids = np.zeros((self.npoint,))\n",
        "        distance = np.ones((N,)) * 1e10\n",
        "        farthest = np.random.randint(0, N)\n",
        "        for i in range(self.npoint):\n",
        "            centroids[i] = farthest\n",
        "            centroid = xyz[farthest, :]\n",
        "            dist = np.sum((xyz - centroid) ** 2, -1)\n",
        "            mask = dist < distance\n",
        "            distance[mask] = dist[mask]\n",
        "            farthest = np.argmax(distance, -1)\n",
        "        points = self.points[centroids.astype(np.int32)]\n",
        "        return points\n",
        "\n",
        "    def normalize(self,spc):\n",
        "        npc = spc - np.mean(spc, axis=0)\n",
        "        npc /= np.max(np.linalg.norm(npc, axis=1))\n",
        "        return npc\n",
        "\n",
        "    def totensor(self,p):\n",
        "        return torch.from_numpy(p)\n",
        "\n",
        "    def RandomRotation(self,pc):\n",
        "        theta = random.random() * 2. * math.pi\n",
        "        rot_matrix = np.array([[ math.cos(theta), -math.sin(theta),    0],\n",
        "                               [ math.sin(theta),  math.cos(theta),    0],\n",
        "                               [0,                             0,      1]])\n",
        "        rot_pointcloud = rot_matrix.dot(pc.T).T\n",
        "        return  rot_pointcloud\n",
        "\n",
        "    def RandomNoise(self,pc):\n",
        "        noise = np.random.normal(0, 0.02, (pc.shape))\n",
        "        npc = pc + noise\n",
        "        return  npc\n",
        "\n",
        "    def __init__(self,points,npoints=1024):\n",
        "        self.points=points\n",
        "        self.npoint=npoints"
      ]
    },
    {
      "cell_type": "code",
      "execution_count": 5,
      "metadata": {
        "id": "BxTa5phv2ORy"
      },
      "outputs": [],
      "source": [
        "\n",
        "class ModelNet10Datset(Dataset):\n",
        "    def __init__(self, root_dir, valid=False, folder=\"train\"):\n",
        "        self.root_dir = root_dir\n",
        "        folders = [dir for dir in sorted(os.listdir(root_dir)) if os.path.isdir(root_dir/dir)]\n",
        "        self.classes = {folder: i for i, folder in enumerate(folders)}\n",
        "        self.valid = valid\n",
        "        self.files = []\n",
        "        for category in self.classes.keys():\n",
        "            new_dir = root_dir/Path(category)/folder\n",
        "            for file in os.listdir(new_dir):\n",
        "                if file.endswith('.off'):\n",
        "                    sample = {}\n",
        "                    sample['pcd_path'] = new_dir/file\n",
        "                    sample['category'] = category\n",
        "                    self.files.append(sample)\n",
        "\n",
        "    def __len__(self):\n",
        "        return len(self.files)\n",
        "\n",
        "    def __preproc__(self, file):\n",
        "        pcd = trimesh.load(file)\n",
        "        sampled_pc = trimesh.sample.sample_surface(pcd,5000)\n",
        "        pc = sampled_pc[0]\n",
        "        k=SamplePoints(pc)\n",
        "        pc=k.farthestPointSample()\n",
        "        pc=k.normalize(pc)\n",
        "        if self.valid == False:\n",
        "            pc=k.RandomRotation(pc)\n",
        "            pc=k.RandomNoise(pc)\n",
        "        pc=k.totensor(pc)\n",
        "        return pc\n",
        "\n",
        "    def __getitem__(self, idx):\n",
        "        pcd_path = self.files[idx]['pcd_path']\n",
        "        category = self.files[idx]['category']\n",
        "\n",
        "        pointcloud = self.__preproc__(pcd_path)\n",
        "\n",
        "        return {'pointcloud': pointcloud, 'category': self.classes[category]}"
      ]
    },
    {
      "cell_type": "code",
      "execution_count": 6,
      "metadata": {
        "id": "lopX6MYi3CcP"
      },
      "outputs": [],
      "source": [
        "class Tnet(nn.Module):\n",
        "  def __init__(self,k=3):\n",
        "    super().__init__()\n",
        "    self.k=k\n",
        "    self.conv1=nn.Conv1d(k,64,1)\n",
        "    self.conv2=nn.Conv1d(64,128,1)\n",
        "    self.conv3=nn.Conv1d(128,1024,1)\n",
        "    self.fc1=nn.Linear(1024,512)\n",
        "    self.fc2=nn.Linear(512,256)\n",
        "    self.fc3=nn.Linear(256,k*k)\n",
        "\n",
        "    self.bn1 = nn.BatchNorm1d(64)\n",
        "    self.bn2 = nn.BatchNorm1d(128)\n",
        "    self.bn3 = nn.BatchNorm1d(1024)\n",
        "    self.bn4 = nn.BatchNorm1d(512)\n",
        "    self.bn5 = nn.BatchNorm1d(256)\n",
        "\n",
        "  def forward(self,input):\n",
        "    bs=input.size(0)\n",
        "    xb = F.relu(self.bn1(self.conv1(input)))\n",
        "    xb = F.relu(self.bn2(self.conv2(xb)))\n",
        "    xb = F.relu(self.bn3(self.conv3(xb)))\n",
        "    pool = nn.MaxPool1d(xb.size(-1))(xb)\n",
        "    flat = nn.Flatten(1)(pool)\n",
        "    xb = F.relu(self.bn4(self.fc1(flat)))\n",
        "    xb = F.relu(self.bn5(self.fc2(xb)))\n",
        "\n",
        "    init=torch.eye(self.k,requires_grad=True).repeat(bs,1,1)\n",
        "    if xb.is_cuda:\n",
        "      init=init.cuda()\n",
        "    matrix=self.fc3(xb).view(-1,self.k,self.k)+init\n",
        "    return matrix\n",
        "\n",
        "class Transform(nn.Module):\n",
        "  def __init__(self):\n",
        "    super().__init__()\n",
        "    self.input_transform=Tnet(k=3)\n",
        "    self.feature_transform=Tnet(k=64)\n",
        "    self.conv1=nn.Conv1d(3,64,1)\n",
        "    self.conv2=nn.Conv1d(64,128,1)\n",
        "    self.conv3=nn.Conv1d(128,1024,1)\n",
        "    self.bn1=nn.BatchNorm1d(64)\n",
        "    self.bn2=nn.BatchNorm1d(128)\n",
        "    self.bn3=nn.BatchNorm1d(1024)\n",
        "\n",
        "  def forward(self,input):\n",
        "    mat3x3=self.input_transform(input)\n",
        "    xb=torch.bmm(torch.transpose(input,1,2),mat3x3).transpose(1,2)\n",
        "    xb=F.relu(self.bn1(self.conv1(xb)))\n",
        "\n",
        "    mat64x64=self.feature_transform(xb)\n",
        "    xb=torch.bmm(torch.transpose(xb,1,2),mat64x64).transpose(1,2)\n",
        "\n",
        "    xb=F.relu(self.bn2(self.conv2(xb)))\n",
        "    xb=self.bn3(self.conv3(xb))\n",
        "    xb=nn.MaxPool1d(xb.size(-1))(xb)\n",
        "    out=nn.Flatten(1)(xb)\n",
        "    return out,mat3x3,mat64x64\n",
        "\n",
        "class PointNet(nn.Module):\n",
        "  def __init__(self, classes = 10):\n",
        "    super().__init__()\n",
        "    self.transform=Transform()\n",
        "    self.fc1=nn.Linear(1024,512)\n",
        "    self.fc2=nn.Linear(512,256)\n",
        "    self.fc3=nn.Linear(256,classes)\n",
        "\n",
        "    self.bn1=nn.BatchNorm1d(512)\n",
        "    self.bn2=nn.BatchNorm1d(256)\n",
        "    self.dropout=nn.Dropout(p=0.3)\n",
        "    self.logsoftmax=nn.LogSoftmax(dim=1)\n",
        "\n",
        "  def forward(self,input):\n",
        "    xb,mat3x3,mat64x64=self.transform(input)\n",
        "    xb=F.relu(self.bn1(self.fc1(xb)))\n",
        "    xb=F.relu(self.bn2(self.dropout(self.fc2(xb))))\n",
        "    output=self.fc3(xb)\n",
        "    return self.logsoftmax(output),mat3x3,mat64x64"
      ]
    },
    {
      "cell_type": "code",
      "execution_count": 7,
      "metadata": {
        "id": "PTeiS2DPDES6"
      },
      "outputs": [],
      "source": [
        "\n",
        "def pointnetloss(outputs, labels, m3x3, m64x64, alpha = 0.0001):\n",
        "    criterion = torch.nn.NLLLoss()  # Classification loss\n",
        "    bs=outputs.size(0)\n",
        "    id3x3 = torch.eye(3, requires_grad=True).repeat(bs,1,1)\n",
        "    id64x64 = torch.eye(64, requires_grad=True).repeat(bs,1,1)\n",
        "    if outputs.is_cuda:\n",
        "        id3x3=id3x3.cuda()\n",
        "        id64x64=id64x64.cuda()\n",
        "    diff3x3 = id3x3-torch.bmm(m3x3,m3x3.transpose(1,2))\n",
        "    diff64x64 = id64x64-torch.bmm(m64x64,m64x64.transpose(1,2))\n",
        "    return criterion(outputs, labels) + alpha * (torch.norm(diff3x3)+torch.norm(diff64x64)) / float(bs)"
      ]
    },
    {
      "cell_type": "code",
      "execution_count": 8,
      "metadata": {
        "colab": {
          "base_uri": "https://localhost:8080/",
          "height": 1000
        },
        "id": "gj3tzuGp-uX3",
        "outputId": "bb4ddf11-f78e-4049-8b57-eda0d00f6fc1"
      },
      "outputs": [
        {
          "name": "stdout",
          "output_type": "stream",
          "text": [
            "----------------------------------------------------------------\n",
            "        Layer (type)               Output Shape         Param #\n",
            "================================================================\n",
            "            Conv1d-1             [-1, 64, 1024]             256\n",
            "       BatchNorm1d-2             [-1, 64, 1024]             128\n",
            "            Conv1d-3            [-1, 128, 1024]           8,320\n",
            "       BatchNorm1d-4            [-1, 128, 1024]             256\n",
            "            Conv1d-5           [-1, 1024, 1024]         132,096\n",
            "       BatchNorm1d-6           [-1, 1024, 1024]           2,048\n",
            "            Linear-7                  [-1, 512]         524,800\n",
            "       BatchNorm1d-8                  [-1, 512]           1,024\n",
            "            Linear-9                  [-1, 256]         131,328\n",
            "      BatchNorm1d-10                  [-1, 256]             512\n",
            "           Linear-11                    [-1, 9]           2,313\n",
            "             Tnet-12                 [-1, 3, 3]               0\n",
            "           Conv1d-13             [-1, 64, 1024]             256\n",
            "      BatchNorm1d-14             [-1, 64, 1024]             128\n",
            "           Conv1d-15             [-1, 64, 1024]           4,160\n",
            "      BatchNorm1d-16             [-1, 64, 1024]             128\n",
            "           Conv1d-17            [-1, 128, 1024]           8,320\n",
            "      BatchNorm1d-18            [-1, 128, 1024]             256\n",
            "           Conv1d-19           [-1, 1024, 1024]         132,096\n",
            "      BatchNorm1d-20           [-1, 1024, 1024]           2,048\n",
            "           Linear-21                  [-1, 512]         524,800\n",
            "      BatchNorm1d-22                  [-1, 512]           1,024\n",
            "           Linear-23                  [-1, 256]         131,328\n",
            "      BatchNorm1d-24                  [-1, 256]             512\n",
            "           Linear-25                 [-1, 4096]       1,052,672\n",
            "             Tnet-26               [-1, 64, 64]               0\n",
            "           Conv1d-27            [-1, 128, 1024]           8,320\n",
            "      BatchNorm1d-28            [-1, 128, 1024]             256\n",
            "           Conv1d-29           [-1, 1024, 1024]         132,096\n",
            "      BatchNorm1d-30           [-1, 1024, 1024]           2,048\n"
          ]
        },
        {
          "name": "stderr",
          "output_type": "stream",
          "text": [
            "/usr/local/lib/python3.10/dist-packages/numpy/core/fromnumeric.py:86: VisibleDeprecationWarning: Creating an ndarray from ragged nested sequences (which is a list-or-tuple of lists-or-tuples-or ndarrays with different lengths or shapes) is deprecated. If you meant to do this, you must specify 'dtype=object' when creating the ndarray.\n",
            "  return ufunc.reduce(obj, axis, dtype, out, **passkwargs)\n"
          ]
        },
        {
          "ename": "TypeError",
          "evalue": "ignored",
          "output_type": "error",
          "traceback": [
            "\u001b[0;31m---------------------------------------------------------------------------\u001b[0m",
            "\u001b[0;31mTypeError\u001b[0m                                 Traceback (most recent call last)",
            "\u001b[0;32m<ipython-input-8-d389897b045f>\u001b[0m in \u001b[0;36m<cell line: 5>\u001b[0;34m()\u001b[0m\n\u001b[1;32m      3\u001b[0m \u001b[0mpointnet\u001b[0m\u001b[0;34m.\u001b[0m\u001b[0mto\u001b[0m\u001b[0;34m(\u001b[0m\u001b[0mdevice\u001b[0m\u001b[0;34m)\u001b[0m\u001b[0;34m\u001b[0m\u001b[0;34m\u001b[0m\u001b[0m\n\u001b[1;32m      4\u001b[0m \u001b[0moptimizer\u001b[0m \u001b[0;34m=\u001b[0m \u001b[0mtorch\u001b[0m\u001b[0;34m.\u001b[0m\u001b[0moptim\u001b[0m\u001b[0;34m.\u001b[0m\u001b[0mAdam\u001b[0m\u001b[0;34m(\u001b[0m\u001b[0mpointnet\u001b[0m\u001b[0;34m.\u001b[0m\u001b[0mparameters\u001b[0m\u001b[0;34m(\u001b[0m\u001b[0;34m)\u001b[0m\u001b[0;34m,\u001b[0m \u001b[0mlr\u001b[0m\u001b[0;34m=\u001b[0m\u001b[0;36m0.001\u001b[0m\u001b[0;34m)\u001b[0m\u001b[0;34m\u001b[0m\u001b[0;34m\u001b[0m\u001b[0m\n\u001b[0;32m----> 5\u001b[0;31m \u001b[0msummary\u001b[0m\u001b[0;34m(\u001b[0m\u001b[0mpointnet\u001b[0m\u001b[0;34m,\u001b[0m\u001b[0;34m(\u001b[0m\u001b[0;36m3\u001b[0m\u001b[0;34m,\u001b[0m\u001b[0;36m1024\u001b[0m\u001b[0;34m)\u001b[0m\u001b[0;34m)\u001b[0m\u001b[0;34m\u001b[0m\u001b[0;34m\u001b[0m\u001b[0m\n\u001b[0m",
            "\u001b[0;32m/usr/local/lib/python3.10/dist-packages/torchsummary/torchsummary.py\u001b[0m in \u001b[0;36msummary\u001b[0;34m(model, input_size, batch_size, device)\u001b[0m\n\u001b[1;32m     91\u001b[0m         )\n\u001b[1;32m     92\u001b[0m         \u001b[0mtotal_params\u001b[0m \u001b[0;34m+=\u001b[0m \u001b[0msummary\u001b[0m\u001b[0;34m[\u001b[0m\u001b[0mlayer\u001b[0m\u001b[0;34m]\u001b[0m\u001b[0;34m[\u001b[0m\u001b[0;34m\"nb_params\"\u001b[0m\u001b[0;34m]\u001b[0m\u001b[0;34m\u001b[0m\u001b[0;34m\u001b[0m\u001b[0m\n\u001b[0;32m---> 93\u001b[0;31m         \u001b[0mtotal_output\u001b[0m \u001b[0;34m+=\u001b[0m \u001b[0mnp\u001b[0m\u001b[0;34m.\u001b[0m\u001b[0mprod\u001b[0m\u001b[0;34m(\u001b[0m\u001b[0msummary\u001b[0m\u001b[0;34m[\u001b[0m\u001b[0mlayer\u001b[0m\u001b[0;34m]\u001b[0m\u001b[0;34m[\u001b[0m\u001b[0;34m\"output_shape\"\u001b[0m\u001b[0;34m]\u001b[0m\u001b[0;34m)\u001b[0m\u001b[0;34m\u001b[0m\u001b[0;34m\u001b[0m\u001b[0m\n\u001b[0m\u001b[1;32m     94\u001b[0m         \u001b[0;32mif\u001b[0m \u001b[0;34m\"trainable\"\u001b[0m \u001b[0;32min\u001b[0m \u001b[0msummary\u001b[0m\u001b[0;34m[\u001b[0m\u001b[0mlayer\u001b[0m\u001b[0;34m]\u001b[0m\u001b[0;34m:\u001b[0m\u001b[0;34m\u001b[0m\u001b[0;34m\u001b[0m\u001b[0m\n\u001b[1;32m     95\u001b[0m             \u001b[0;32mif\u001b[0m \u001b[0msummary\u001b[0m\u001b[0;34m[\u001b[0m\u001b[0mlayer\u001b[0m\u001b[0;34m]\u001b[0m\u001b[0;34m[\u001b[0m\u001b[0;34m\"trainable\"\u001b[0m\u001b[0;34m]\u001b[0m \u001b[0;34m==\u001b[0m \u001b[0;32mTrue\u001b[0m\u001b[0;34m:\u001b[0m\u001b[0;34m\u001b[0m\u001b[0;34m\u001b[0m\u001b[0m\n",
            "\u001b[0;32m/usr/local/lib/python3.10/dist-packages/numpy/core/overrides.py\u001b[0m in \u001b[0;36mprod\u001b[0;34m(*args, **kwargs)\u001b[0m\n",
            "\u001b[0;32m/usr/local/lib/python3.10/dist-packages/numpy/core/fromnumeric.py\u001b[0m in \u001b[0;36mprod\u001b[0;34m(a, axis, dtype, out, keepdims, initial, where)\u001b[0m\n\u001b[1;32m   3043\u001b[0m     \u001b[0;36m10\u001b[0m\u001b[0;34m\u001b[0m\u001b[0;34m\u001b[0m\u001b[0m\n\u001b[1;32m   3044\u001b[0m     \"\"\"\n\u001b[0;32m-> 3045\u001b[0;31m     return _wrapreduction(a, np.multiply, 'prod', axis, dtype, out,\n\u001b[0m\u001b[1;32m   3046\u001b[0m                           keepdims=keepdims, initial=initial, where=where)\n\u001b[1;32m   3047\u001b[0m \u001b[0;34m\u001b[0m\u001b[0m\n",
            "\u001b[0;32m/usr/local/lib/python3.10/dist-packages/numpy/core/fromnumeric.py\u001b[0m in \u001b[0;36m_wrapreduction\u001b[0;34m(obj, ufunc, method, axis, dtype, out, **kwargs)\u001b[0m\n\u001b[1;32m     84\u001b[0m                 \u001b[0;32mreturn\u001b[0m \u001b[0mreduction\u001b[0m\u001b[0;34m(\u001b[0m\u001b[0maxis\u001b[0m\u001b[0;34m=\u001b[0m\u001b[0maxis\u001b[0m\u001b[0;34m,\u001b[0m \u001b[0mout\u001b[0m\u001b[0;34m=\u001b[0m\u001b[0mout\u001b[0m\u001b[0;34m,\u001b[0m \u001b[0;34m**\u001b[0m\u001b[0mpasskwargs\u001b[0m\u001b[0;34m)\u001b[0m\u001b[0;34m\u001b[0m\u001b[0;34m\u001b[0m\u001b[0m\n\u001b[1;32m     85\u001b[0m \u001b[0;34m\u001b[0m\u001b[0m\n\u001b[0;32m---> 86\u001b[0;31m     \u001b[0;32mreturn\u001b[0m \u001b[0mufunc\u001b[0m\u001b[0;34m.\u001b[0m\u001b[0mreduce\u001b[0m\u001b[0;34m(\u001b[0m\u001b[0mobj\u001b[0m\u001b[0;34m,\u001b[0m \u001b[0maxis\u001b[0m\u001b[0;34m,\u001b[0m \u001b[0mdtype\u001b[0m\u001b[0;34m,\u001b[0m \u001b[0mout\u001b[0m\u001b[0;34m,\u001b[0m \u001b[0;34m**\u001b[0m\u001b[0mpasskwargs\u001b[0m\u001b[0;34m)\u001b[0m\u001b[0;34m\u001b[0m\u001b[0;34m\u001b[0m\u001b[0m\n\u001b[0m\u001b[1;32m     87\u001b[0m \u001b[0;34m\u001b[0m\u001b[0m\n\u001b[1;32m     88\u001b[0m \u001b[0;34m\u001b[0m\u001b[0m\n",
            "\u001b[0;31mTypeError\u001b[0m: can't multiply sequence by non-int of type 'list'"
          ]
        }
      ],
      "source": [
        "device = torch.device(\"cuda:0\" if torch.cuda.is_available() else \"cpu\")\n",
        "pointnet=PointNet()\n",
        "pointnet.to(device)\n",
        "optimizer = torch.optim.Adam(pointnet.parameters(), lr=0.001)\n",
        "summary(pointnet,(3,1024))"
      ]
    },
    {
      "cell_type": "code",
      "execution_count": 9,
      "metadata": {
        "colab": {
          "base_uri": "https://localhost:8080/"
        },
        "id": "AfJ4MQAWMIwK",
        "outputId": "945ad0a7-cb36-41da-cafc-abe048fdc53b"
      },
      "outputs": [
        {
          "data": {
            "text/plain": [
              "3463763"
            ]
          },
          "execution_count": 9,
          "metadata": {},
          "output_type": "execute_result"
        }
      ],
      "source": [
        "k=sum(p.numel() for p in pointnet.parameters() if p.requires_grad)\n",
        "k"
      ]
    },
    {
      "cell_type": "code",
      "execution_count": 10,
      "metadata": {
        "colab": {
          "base_uri": "https://localhost:8080/"
        },
        "id": "Ub6SC6b5O5MW",
        "outputId": "8559998f-a96b-4ebd-e4fa-07b889338bb0"
      },
      "outputs": [
        {
          "data": {
            "text/plain": [
              "{0: 'bathtub',\n",
              " 1: 'bed',\n",
              " 2: 'chair',\n",
              " 3: 'desk',\n",
              " 4: 'dresser',\n",
              " 5: 'monitor',\n",
              " 6: 'night_stand',\n",
              " 7: 'sofa',\n",
              " 8: 'table',\n",
              " 9: 'toilet'}"
            ]
          },
          "execution_count": 10,
          "metadata": {},
          "output_type": "execute_result"
        }
      ],
      "source": [
        "path=Path(\"ModelNet10\")\n",
        "train_dataset = ModelNet10Datset(path)\n",
        "valid_dataset = ModelNet10Datset(path, valid=True, folder='test')\n",
        "classes = {i: cat for cat, i in train_dataset.classes.items()}\n",
        "classes"
      ]
    },
    {
      "cell_type": "code",
      "execution_count": 11,
      "metadata": {
        "colab": {
          "base_uri": "https://localhost:8080/"
        },
        "id": "-amiEt4NPEu8",
        "outputId": "87f4e46b-061c-4862-a093-a4266dccadcc"
      },
      "outputs": [
        {
          "name": "stdout",
          "output_type": "stream",
          "text": [
            "Train dataset size:  3991\n",
            "Valid dataset size:  908\n",
            "Number of classes:  10\n",
            "Sample pointcloud shape:  torch.Size([1024, 3])\n",
            "Class:  bathtub\n"
          ]
        }
      ],
      "source": [
        "print('Train dataset size: ', len(train_dataset))\n",
        "print('Valid dataset size: ', len(valid_dataset))\n",
        "print('Number of classes: ', len(train_dataset.classes))\n",
        "print('Sample pointcloud shape: ', train_dataset[0]['pointcloud'].size())\n",
        "print('Class: ',classes[train_dataset[0]['category']])"
      ]
    },
    {
      "cell_type": "code",
      "execution_count": 12,
      "metadata": {
        "id": "ourDBj8GPHRf"
      },
      "outputs": [],
      "source": [
        "batch_size=64\n",
        "epochs=3\n",
        "train_loader = DataLoader(dataset=train_dataset, batch_size=batch_size, shuffle=True,drop_last=False)\n",
        "valid_loader = DataLoader(dataset=valid_dataset, batch_size=batch_size,drop_last=False,shuffle=True)"
      ]
    },
    {
      "cell_type": "code",
      "execution_count": 13,
      "metadata": {
        "id": "ijLzZ5acOhta"
      },
      "outputs": [],
      "source": [
        "def train(model, train_loader, val_loader=None,  epochs=2, save=True):\n",
        "    for epoch in range(epochs):\n",
        "        pointnet.train()\n",
        "        running_loss = 0.0\n",
        "        mean_correct=[]\n",
        "        i=0\n",
        "        for data in tqdm(train_loader,ncols= 100):\n",
        "            inputs, labels = data['pointcloud'].to(device).float(), data['category'].to(device)\n",
        "            optimizer.zero_grad()\n",
        "            outputs, m3x3, m64x64 = pointnet(inputs.transpose(1,2))\n",
        "\n",
        "            loss = pointnetloss(outputs, labels, m3x3, m64x64)\n",
        "            loss.backward()\n",
        "            optimizer.step()\n",
        "\n",
        "            pred_choice=outputs.data.max(1)[1]\n",
        "            correct=pred_choice.eq(labels.data).cpu().sum()\n",
        "            mean_correct.append(correct.item()/float(batch_size))\n",
        "            # print statistics\n",
        "            running_loss += loss.item()\n",
        "            if i % 10 == 9:\n",
        "              print('[Epoch: %d, Batch: %4d / %4d], loss: %.3f mean accuracy: %f' %\n",
        "                (epoch + 1, i + 1, len(train_loader), running_loss / 10, np.mean(mean_correct)))\n",
        "              running_loss = 0.0\n",
        "\n",
        "        pointnet.eval()\n",
        "        correct = total = 0\n",
        "\n",
        "        # validation\n",
        "        with torch.no_grad():\n",
        "            for data in val_loader:\n",
        "                inputs, labels = data['pointcloud'].to(device).float(), data['category'].to(device)\n",
        "                outputs, __, __ = pointnet(inputs.transpose(1,2))\n",
        "                _, predicted = torch.max(outputs.data, 1)\n",
        "                total += labels.size(0)\n",
        "                correct += (predicted == labels).sum().item()\n",
        "        val_acc = 100. * correct / total\n",
        "        print('Valid accuracy: %d %%' % val_acc)\n",
        "\n",
        "        # save the model\n",
        "        if save:\n",
        "            torch.save(pointnet.state_dict(), \"save_\"+str(epoch)+\".pth\")"
      ]
    },
    {
      "cell_type": "code",
      "execution_count": 14,
      "metadata": {
        "colab": {
          "base_uri": "https://localhost:8080/"
        },
        "id": "CFWMVp2HOyX5",
        "outputId": "d07c1509-5b36-46d7-8345-b4ae8bc0b3b8"
      },
      "outputs": [
        {
          "name": "stderr",
          "output_type": "stream",
          "text": [
            "100%|███████████████████████████████████████████████████████████████| 63/63 [19:13<00:00, 18.31s/it]\n"
          ]
        },
        {
          "name": "stdout",
          "output_type": "stream",
          "text": [
            "Valid accuracy: 69 %\n"
          ]
        }
      ],
      "source": [
        "train(pointnet, train_loader, valid_loader, 1, save=True)"
      ]
    },
    {
      "cell_type": "code",
      "execution_count": 15,
      "metadata": {
        "colab": {
          "base_uri": "https://localhost:8080/",
          "height": 583
        },
        "id": "28cbQDSWO1Pu",
        "outputId": "f0978246-61d4-491e-f50e-e71181aaed47"
      },
      "outputs": [
        {
          "name": "stderr",
          "output_type": "stream",
          "text": [
            "100%|██████████| 15/15 [05:06<00:00, 20.44s/it]\n"
          ]
        },
        {
          "name": "stdout",
          "output_type": "stream",
          "text": [
            "Valid accuracy: 69 %\n"
          ]
        },
        {
          "data": {
            "image/png": "[encoded data removed]",
            "text/plain": [
              "<Figure size 640x480 with 2 Axes>"
            ]
          },
          "metadata": {},
          "output_type": "display_data"
        }
      ],
      "source": [
        "epochs=0\n",
        "class PredictAndPlot:\n",
        "    def __init__(self):\n",
        "        self.classes = {i: cat for cat, i in valid_dataset.classes.items()}\n",
        "        correct = total = 0\n",
        "        pointnet = PointNet()\n",
        "        pointnet.load_state_dict(torch.load(\"save_\"+str(epochs)+\".pth\",map_location=torch.device('cpu')))\n",
        "        pointnet.eval()\n",
        "        self.predicted = []\n",
        "        self.actual = []\n",
        "        with torch.no_grad():\n",
        "            for data in tqdm(valid_loader):\n",
        "                inputs, labels = data['pointcloud'].float(), data['category']\n",
        "                outputs,__,__ = pointnet(inputs.transpose(1,2))\n",
        "                _, predicted = torch.max(outputs.data, 1)\n",
        "                total += labels.size(0)\n",
        "                correct += (predicted == labels).sum().item()\n",
        "\n",
        "                self.predicted += list(predicted.numpy())\n",
        "                self.actual += list(labels.numpy())\n",
        "        val_acc = 100. * correct / total\n",
        "        print('Valid accuracy: %d %%' % val_acc)\n",
        "        self.plot()\n",
        "\n",
        "    def plot(self):\n",
        "        cm = confusion_matrix(self.actual,self.predicted)\n",
        "        sns.heatmap(cm,\n",
        "            annot=True,\n",
        "            fmt='g',\n",
        "            xticklabels=self.classes.values(),\n",
        "            yticklabels=self.classes.values())\n",
        "        plt.xlabel('Prediction',fontsize=13)\n",
        "        plt.ylabel('Actual',fontsize=13)\n",
        "        plt.title('Confusion Matrix',fontsize=17)\n",
        "        plt.show()\n",
        "\n",
        "k=PredictAndPlot()"
      ]
    },
    {
      "cell_type": "code",
      "execution_count": null,
      "metadata": {
        "id": "Fm_6rLFjXuqr"
      },
      "outputs": [],
      "source": []
    }
  ],
  "metadata": {
    "accelerator": "GPU",
    "colab": {
      "gpuType": "T4",
      "provenance": []
    },
    "kernelspec": {
      "display_name": "Python 3",
      "name": "python3"
    },
    "language_info": {
      "name": "python"
    }
  },
  "nbformat": 4,
  "nbformat_minor": 0
}
