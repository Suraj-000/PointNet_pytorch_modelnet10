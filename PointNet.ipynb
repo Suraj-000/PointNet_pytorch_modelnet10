{
  "nbformat": 4,
  "nbformat_minor": 0,
  "metadata": {
    "colab": {
      "provenance": [],
      "gpuType": "T4"
    },
    "kernelspec": {
      "name": "python3",
      "display_name": "Python 3"
    },
    "language_info": {
      "name": "python"
    },
    "accelerator": "GPU"
  },
  "cells": [
    {
      "cell_type": "code",
      "execution_count": 1,
      "metadata": {
        "colab": {
          "base_uri": "https://localhost:8080/"
        },
        "id": "uKtWIebQuku-",
        "outputId": "a3d6fd2f-804b-4146-b4e8-ce45ce91f5a7"
      },
      "outputs": [
        {
          "output_type": "stream",
          "name": "stdout",
          "text": [
            "Collecting trimesh\n",
            "  Downloading trimesh-3.23.5-py3-none-any.whl (685 kB)\n",
            "\u001b[2K     \u001b[90m━━━━━━━━━━━━━━━━━━━━━━━━━━━━━━━━━━━━━━━\u001b[0m \u001b[32m685.4/685.4 kB\u001b[0m \u001b[31m5.6 MB/s\u001b[0m eta \u001b[36m0:00:00\u001b[0m\n",
            "\u001b[?25hRequirement already satisfied: numpy in /usr/local/lib/python3.10/dist-packages (from trimesh) (1.23.5)\n",
            "Installing collected packages: trimesh\n",
            "Successfully installed trimesh-3.23.5\n",
            "Collecting path\n",
            "  Downloading path-16.7.1-py3-none-any.whl (25 kB)\n",
            "Installing collected packages: path\n",
            "Successfully installed path-16.7.1\n",
            "Collecting thop\n",
            "  Downloading thop-0.1.1.post2209072238-py3-none-any.whl (15 kB)\n",
            "Requirement already satisfied: torch in /usr/local/lib/python3.10/dist-packages (from thop) (2.0.1+cu118)\n",
            "Requirement already satisfied: filelock in /usr/local/lib/python3.10/dist-packages (from torch->thop) (3.12.2)\n",
            "Requirement already satisfied: typing-extensions in /usr/local/lib/python3.10/dist-packages (from torch->thop) (4.7.1)\n",
            "Requirement already satisfied: sympy in /usr/local/lib/python3.10/dist-packages (from torch->thop) (1.12)\n",
            "Requirement already satisfied: networkx in /usr/local/lib/python3.10/dist-packages (from torch->thop) (3.1)\n",
            "Requirement already satisfied: jinja2 in /usr/local/lib/python3.10/dist-packages (from torch->thop) (3.1.2)\n",
            "Requirement already satisfied: triton==2.0.0 in /usr/local/lib/python3.10/dist-packages (from torch->thop) (2.0.0)\n",
            "Requirement already satisfied: cmake in /usr/local/lib/python3.10/dist-packages (from triton==2.0.0->torch->thop) (3.27.2)\n",
            "Requirement already satisfied: lit in /usr/local/lib/python3.10/dist-packages (from triton==2.0.0->torch->thop) (16.0.6)\n",
            "Requirement already satisfied: MarkupSafe>=2.0 in /usr/local/lib/python3.10/dist-packages (from jinja2->torch->thop) (2.1.3)\n",
            "Requirement already satisfied: mpmath>=0.19 in /usr/local/lib/python3.10/dist-packages (from sympy->torch->thop) (1.3.0)\n",
            "Installing collected packages: thop\n",
            "Successfully installed thop-0.1.1.post2209072238\n",
            "--2023-08-28 18:50:27--  http://3dvision.princeton.edu/projects/2014/3DShapeNets/ModelNet10.zip\n",
            "Resolving 3dvision.princeton.edu (3dvision.princeton.edu)... 128.112.136.67\n",
            "Connecting to 3dvision.princeton.edu (3dvision.princeton.edu)|128.112.136.67|:80... connected.\n",
            "HTTP request sent, awaiting response... 302 Found\n",
            "Location: https://3dvision.princeton.edu/projects/2014/3DShapeNets/ModelNet10.zip [following]\n",
            "--2023-08-28 18:50:27--  https://3dvision.princeton.edu/projects/2014/3DShapeNets/ModelNet10.zip\n",
            "Connecting to 3dvision.princeton.edu (3dvision.princeton.edu)|128.112.136.67|:443... connected.\n",
            "HTTP request sent, awaiting response... 200 OK\n",
            "Length: 473402300 (451M) [application/zip]\n",
            "Saving to: ‘ModelNet10.zip’\n",
            "\n",
            "ModelNet10.zip      100%[===================>] 451.47M  66.3MB/s    in 4.9s    \n",
            "\n",
            "2023-08-28 18:50:32 (92.8 MB/s) - ‘ModelNet10.zip’ saved [473402300/473402300]\n",
            "\n"
          ]
        }
      ],
      "source": [
        "!pip install trimesh\n",
        "!pip install path\n",
        "!pip install thop\n",
        "!wget http://3dvision.princeton.edu/projects/2014/3DShapeNets/ModelNet10.zip\n",
        "!unzip -q ModelNet10.zip;"
      ]
    },
    {
      "cell_type": "code",
      "source": [
        "import trimesh\n",
        "from path import Path\n",
        "import numpy as np\n",
        "import math\n",
        "import random\n",
        "import os\n",
        "import torch\n",
        "from glob import glob\n",
        "import scipy.spatial.distance\n",
        "from torch.utils.data import Dataset, DataLoader\n",
        "from torchvision import transforms, utils\n",
        "import plotly.graph_objects as go\n",
        "import torch\n",
        "import torch.nn as nn\n",
        "import numpy as np\n",
        "import torch.nn.functional as F\n",
        "from sklearn.metrics import confusion_matrix\n",
        "from tqdm import tqdm\n",
        "from torchsummary import summary\n",
        "from thop import profile\n",
        "import matplotlib.pyplot as plt\n",
        "import seaborn as sns"
      ],
      "metadata": {
        "id": "7hTdd3j-17l3"
      },
      "execution_count": 2,
      "outputs": []
    },
    {
      "cell_type": "code",
      "source": [
        "if torch.cuda.is_available():\n",
        "  if_cuda=True\n",
        "else:\n",
        "  if_cuda=False\n",
        "seed_value=0\n",
        "np.random.seed(seed_value) # cpu vars\n",
        "torch.manual_seed(seed_value) # cpu  vars\n",
        "random.seed(seed_value) # Python\n",
        "os.environ['PYTHONHASHSEED']=str(seed_value)\n",
        "if if_cuda:\n",
        "    torch.cuda.manual_seed(seed_value)\n",
        "    torch.cuda.manual_seed_all(seed_value) # gpu vars\n",
        "    torch.backends.cudnn.deterministic = True\n",
        "    torch.backends.cudnn.benchmark = False"
      ],
      "metadata": {
        "id": "dTKkIQ5C2HHx"
      },
      "execution_count": 3,
      "outputs": []
    },
    {
      "cell_type": "code",
      "source": [
        "class SamplePoints:\n",
        "    def randomSample(self):\n",
        "        indexes = random.sample(range(self.points.shape[0]), self.npoint)\n",
        "        return self.points[indexes]\n",
        "\n",
        "    def farthestPointSample(self):\n",
        "        N, D = self.points.shape\n",
        "        xyz = self.points[:,:3]\n",
        "        centroids = np.zeros((self.npoint,))\n",
        "        distance = np.ones((N,)) * 1e10\n",
        "        farthest = np.random.randint(0, N)\n",
        "        for i in range(self.npoint):\n",
        "            centroids[i] = farthest\n",
        "            centroid = xyz[farthest, :]\n",
        "            dist = np.sum((xyz - centroid) ** 2, -1)\n",
        "            mask = dist < distance\n",
        "            distance[mask] = dist[mask]\n",
        "            farthest = np.argmax(distance, -1)\n",
        "        points = self.points[centroids.astype(np.int32)]\n",
        "        return points\n",
        "\n",
        "    def normalize(self,spc):\n",
        "        npc = spc - np.mean(spc, axis=0)\n",
        "        npc /= np.max(np.linalg.norm(npc, axis=1))\n",
        "        return npc\n",
        "\n",
        "    def totensor(self,p):\n",
        "        return torch.from_numpy(p)\n",
        "\n",
        "    def RandomRotation(self,pc):\n",
        "        theta = random.random() * 2. * math.pi\n",
        "        rot_matrix = np.array([[ math.cos(theta), -math.sin(theta),    0],\n",
        "                               [ math.sin(theta),  math.cos(theta),    0],\n",
        "                               [0,                             0,      1]])\n",
        "        rot_pointcloud = rot_matrix.dot(pc.T).T\n",
        "        return  rot_pointcloud\n",
        "\n",
        "    def RandomNoise(self,pc):\n",
        "        noise = np.random.normal(0, 0.02, (pc.shape))\n",
        "        npc = pc + noise\n",
        "        return  npc\n",
        "\n",
        "    def __init__(self,points,npoints=1024):\n",
        "        self.points=points\n",
        "        self.npoint=npoints"
      ],
      "metadata": {
        "id": "SLH8UTzl2KMh"
      },
      "execution_count": 4,
      "outputs": []
    },
    {
      "cell_type": "code",
      "source": [
        "\n",
        "class ModelNet10Datset(Dataset):\n",
        "    def __init__(self, root_dir, valid=False, folder=\"train\"):\n",
        "        self.root_dir = root_dir\n",
        "        folders = [dir for dir in sorted(os.listdir(root_dir)) if os.path.isdir(root_dir/dir)]\n",
        "        self.classes = {folder: i for i, folder in enumerate(folders)}\n",
        "        self.valid = valid\n",
        "        self.files = []\n",
        "        for category in self.classes.keys():\n",
        "            new_dir = root_dir/Path(category)/folder\n",
        "            for file in os.listdir(new_dir):\n",
        "                if file.endswith('.off'):\n",
        "                    sample = {}\n",
        "                    sample['pcd_path'] = new_dir/file\n",
        "                    sample['category'] = category\n",
        "                    self.files.append(sample)\n",
        "\n",
        "    def __len__(self):\n",
        "        return len(self.files)\n",
        "\n",
        "    def __preproc__(self, file):\n",
        "        pcd = trimesh.load(file)\n",
        "        sampled_pc = trimesh.sample.sample_surface(pcd,5000)\n",
        "        pc = sampled_pc[0]\n",
        "        k=SamplePoints(pc)\n",
        "        pc=k.farthestPointSample()\n",
        "        pc=k.normalize(pc)\n",
        "        if self.valid == False:\n",
        "            pc=k.RandomRotation(pc)\n",
        "            pc=k.RandomNoise(pc)\n",
        "        pc=k.totensor(pc)\n",
        "        return pc\n",
        "\n",
        "    def __getitem__(self, idx):\n",
        "        pcd_path = self.files[idx]['pcd_path']\n",
        "        category = self.files[idx]['category']\n",
        "\n",
        "        pointcloud = self.__preproc__(pcd_path)\n",
        "\n",
        "        return {'pointcloud': pointcloud, 'category': self.classes[category]}"
      ],
      "metadata": {
        "id": "BxTa5phv2ORy"
      },
      "execution_count": 5,
      "outputs": []
    },
    {
      "cell_type": "code",
      "source": [
        "class Tnet(nn.Module):\n",
        "  def __init__(self,k=3):\n",
        "    super().__init__()\n",
        "    self.k=k\n",
        "    self.conv1=nn.Conv1d(k,64,1)\n",
        "    self.conv2=nn.Conv1d(64,128,1)\n",
        "    self.conv3=nn.Conv1d(128,1024,1)\n",
        "    self.fc1=nn.Linear(1024,512)\n",
        "    self.fc2=nn.Linear(512,256)\n",
        "    self.fc3=nn.Linear(256,k*k)\n",
        "\n",
        "    self.bn1 = nn.BatchNorm1d(64)\n",
        "    self.bn2 = nn.BatchNorm1d(128)\n",
        "    self.bn3 = nn.BatchNorm1d(1024)\n",
        "    self.bn4 = nn.BatchNorm1d(512)\n",
        "    self.bn5 = nn.BatchNorm1d(256)\n",
        "\n",
        "  def forward(self,input):\n",
        "    bs=input.size(0)\n",
        "    xb = F.relu(self.bn1(self.conv1(input)))\n",
        "    xb = F.relu(self.bn2(self.conv2(xb)))\n",
        "    xb = F.relu(self.bn3(self.conv3(xb)))\n",
        "    pool = nn.MaxPool1d(xb.size(-1))(xb)\n",
        "    flat = nn.Flatten(1)(pool)\n",
        "    xb = F.relu(self.bn4(self.fc1(flat)))\n",
        "    xb = F.relu(self.bn5(self.fc2(xb)))\n",
        "\n",
        "    init=torch.eye(self.k,requires_grad=True).repeat(bs,1,1)\n",
        "    if xb.is_cuda:\n",
        "      init=init.cuda()\n",
        "    matrix=self.fc3(xb).view(-1,self.k,self.k)+init\n",
        "    return matrix\n",
        "\n",
        "class Transform(nn.Module):\n",
        "  def __init__(self):\n",
        "    super().__init__()\n",
        "    self.input_transform=Tnet(k=3)\n",
        "    self.feature_transform=Tnet(k=64)\n",
        "    self.conv1=nn.Conv1d(3,64,1)\n",
        "    self.conv2=nn.Conv1d(64,128,1)\n",
        "    self.conv3=nn.Conv1d(128,1024,1)\n",
        "    self.bn1=nn.BatchNorm1d(64)\n",
        "    self.bn2=nn.BatchNorm1d(128)\n",
        "    self.bn3=nn.BatchNorm1d(1024)\n",
        "\n",
        "  def forward(self,input):\n",
        "    mat3x3=self.input_transform(input)\n",
        "    xb=torch.bmm(torch.transpose(input,1,2),mat3x3).transpose(1,2)\n",
        "    xb=F.relu(self.bn1(self.conv1(xb)))\n",
        "\n",
        "    mat64x64=self.feature_transform(xb)\n",
        "    xb=torch.bmm(torch.transpose(xb,1,2),mat64x64).transpose(1,2)\n",
        "\n",
        "    xb=F.relu(self.bn2(self.conv2(xb)))\n",
        "    xb=self.bn3(self.conv3(xb))\n",
        "    xb=nn.MaxPool1d(xb.size(-1))(xb)\n",
        "    out=nn.Flatten(1)(xb)\n",
        "    return out,mat3x3,mat64x64\n",
        "\n",
        "class PointNet(nn.Module):\n",
        "  def __init__(self, classes = 10):\n",
        "    super().__init__()\n",
        "    self.transform=Transform()\n",
        "    self.fc1=nn.Linear(1024,512)\n",
        "    self.fc2=nn.Linear(512,256)\n",
        "    self.fc3=nn.Linear(256,classes)\n",
        "\n",
        "    self.bn1=nn.BatchNorm1d(512)\n",
        "    self.bn2=nn.BatchNorm1d(256)\n",
        "    self.dropout=nn.Dropout(p=0.3)\n",
        "    self.logsoftmax=nn.LogSoftmax(dim=1)\n",
        "\n",
        "  def forward(self,input):\n",
        "    xb,mat3x3,mat64x64=self.transform(input)\n",
        "    xb=F.relu(self.bn1(self.fc1(xb)))\n",
        "    xb=F.relu(self.bn2(self.dropout(self.fc2(xb))))\n",
        "    output=self.fc3(xb)\n",
        "    return self.logsoftmax(output),mat3x3,mat64x64"
      ],
      "metadata": {
        "id": "lopX6MYi3CcP"
      },
      "execution_count": 6,
      "outputs": []
    },
    {
      "cell_type": "code",
      "source": [
        "\n",
        "def pointnetloss(outputs, labels, m3x3, m64x64, alpha = 0.0001):\n",
        "    criterion = torch.nn.NLLLoss()  # Classification loss\n",
        "    bs=outputs.size(0)\n",
        "    id3x3 = torch.eye(3, requires_grad=True).repeat(bs,1,1)\n",
        "    id64x64 = torch.eye(64, requires_grad=True).repeat(bs,1,1)\n",
        "    if outputs.is_cuda:\n",
        "        id3x3=id3x3.cuda()\n",
        "        id64x64=id64x64.cuda()\n",
        "    diff3x3 = id3x3-torch.bmm(m3x3,m3x3.transpose(1,2))\n",
        "    diff64x64 = id64x64-torch.bmm(m64x64,m64x64.transpose(1,2))\n",
        "    return criterion(outputs, labels) + alpha * (torch.norm(diff3x3)+torch.norm(diff64x64)) / float(bs)"
      ],
      "metadata": {
        "id": "PTeiS2DPDES6"
      },
      "execution_count": 7,
      "outputs": []
    },
    {
      "cell_type": "code",
      "source": [
        "k=sum(p.numel() for p in pointnet.parameters() if p.requires_grad)\n",
        "k"
      ],
      "metadata": {
        "colab": {
          "base_uri": "https://localhost:8080/"
        },
        "id": "AfJ4MQAWMIwK",
        "outputId": "2cd22190-1d5d-40a3-d6b8-1698261b8261"
      },
      "execution_count": 10,
      "outputs": [
        {
          "output_type": "execute_result",
          "data": {
            "text/plain": [
              "3463763"
            ]
          },
          "metadata": {},
          "execution_count": 10
        }
      ]
    },
    {
      "cell_type": "code",
      "source": [
        "path=Path(\"ModelNet10\")\n",
        "train_dataset = ModelNet10Datset(path)\n",
        "valid_dataset = ModelNet10Datset(path, valid=True, folder='test')\n",
        "classes = {i: cat for cat, i in train_dataset.classes.items()}\n",
        "classes"
      ],
      "metadata": {
        "colab": {
          "base_uri": "https://localhost:8080/"
        },
        "id": "Ub6SC6b5O5MW",
        "outputId": "47ee3ed7-4ce7-4f34-c2ab-cb195168722a"
      },
      "execution_count": 11,
      "outputs": [
        {
          "output_type": "execute_result",
          "data": {
            "text/plain": [
              "{0: 'bathtub',\n",
              " 1: 'bed',\n",
              " 2: 'chair',\n",
              " 3: 'desk',\n",
              " 4: 'dresser',\n",
              " 5: 'monitor',\n",
              " 6: 'night_stand',\n",
              " 7: 'sofa',\n",
              " 8: 'table',\n",
              " 9: 'toilet'}"
            ]
          },
          "metadata": {},
          "execution_count": 11
        }
      ]
    },
    {
      "cell_type": "code",
      "source": [
        "print('Train dataset size: ', len(train_dataset))\n",
        "print('Valid dataset size: ', len(valid_dataset))\n",
        "print('Number of classes: ', len(train_dataset.classes))\n",
        "print('Sample pointcloud shape: ', train_dataset[0]['pointcloud'].size())\n",
        "print('Class: ',classes[train_dataset[0]['category']])"
      ],
      "metadata": {
        "colab": {
          "base_uri": "https://localhost:8080/"
        },
        "id": "-amiEt4NPEu8",
        "outputId": "223bf408-d17d-4e12-9f26-20df299c4993"
      },
      "execution_count": 12,
      "outputs": [
        {
          "output_type": "stream",
          "name": "stdout",
          "text": [
            "Train dataset size:  3991\n",
            "Valid dataset size:  908\n",
            "Number of classes:  10\n",
            "Sample pointcloud shape:  torch.Size([1024, 3])\n",
            "Class:  bathtub\n"
          ]
        }
      ]
    },
    {
      "cell_type": "code",
      "source": [
        "batch_size=128\n",
        "epochs=5\n",
        "train_loader = DataLoader(dataset=train_dataset, batch_size=batch_size, shuffle=True,drop_last=False)\n",
        "valid_loader = DataLoader(dataset=valid_dataset, batch_size=batch_size,drop_last=False,shuffle=True)"
      ],
      "metadata": {
        "id": "ourDBj8GPHRf"
      },
      "execution_count": 14,
      "outputs": []
    },
    {
      "cell_type": "code",
      "source": [
        "def train(model, train_loader, val_loader=None,  epochs=5, save=True):\n",
        "    for epoch in range(epochs):\n",
        "        pointnet.train()\n",
        "        running_loss = 0.0\n",
        "        mean_correct=[]\n",
        "        i=0\n",
        "        for data in tqdm(train_loader,ncols= 100):\n",
        "            inputs, labels = data['pointcloud'].to(device).float(), data['category'].to(device)\n",
        "            optimizer.zero_grad()\n",
        "            outputs, m3x3, m64x64 = pointnet(inputs.transpose(1,2))\n",
        "\n",
        "            loss = pointnetloss(outputs, labels, m3x3, m64x64)\n",
        "            loss.backward()\n",
        "            optimizer.step()\n",
        "\n",
        "            pred_choice=outputs.data.max(1)[1]\n",
        "            correct=pred_choice.eq(labels.data).cpu().sum()\n",
        "            mean_correct.append(correct.item()/float(batch_size))\n",
        "            # print statistics\n",
        "            running_loss += loss.item()\n",
        "            if i % 10 == 9:\n",
        "              print('[Epoch: %d, Batch: %4d / %4d], loss: %.3f mean accuracy: %f' %\n",
        "                (epoch + 1, i + 1, len(train_loader), running_loss / 10, np.mean(mean_correct)))\n",
        "              running_loss = 0.0\n",
        "\n",
        "        pointnet.eval()\n",
        "        correct = total = 0\n",
        "\n",
        "        # validation\n",
        "        with torch.no_grad():\n",
        "            for data in val_loader:\n",
        "                inputs, labels = data['pointcloud'].to(device).float(), data['category'].to(device)\n",
        "                outputs, __, __ = pointnet(inputs.transpose(1,2))\n",
        "                _, predicted = torch.max(outputs.data, 1)\n",
        "                total += labels.size(0)\n",
        "                correct += (predicted == labels).sum().item()\n",
        "        val_acc = 100. * correct / total\n",
        "        print('Valid accuracy: %d %%' % val_acc)\n",
        "\n",
        "        # save the model\n",
        "        if save:\n",
        "            torch.save(pointnet.state_dict(), \"save_\"+str(epoch)+\".pth\")"
      ],
      "metadata": {
        "id": "ijLzZ5acOhta"
      },
      "execution_count": 15,
      "outputs": []
    },
    {
      "cell_type": "code",
      "source": [
        "train(pointnet, train_loader, valid_loader, 5, save=True)"
      ],
      "metadata": {
        "id": "CFWMVp2HOyX5",
        "outputId": "f826609e-4cfc-4d53-84d6-9e6136a8a0fb",
        "colab": {
          "base_uri": "https://localhost:8080/"
        }
      },
      "execution_count": 16,
      "outputs": [
        {
          "output_type": "stream",
          "name": "stderr",
          "text": [
            "100%|███████████████████████████████████████████████████████████████| 32/32 [21:01<00:00, 39.42s/it]\n"
          ]
        },
        {
          "output_type": "stream",
          "name": "stdout",
          "text": [
            "Valid accuracy: 30 %\n"
          ]
        },
        {
          "output_type": "stream",
          "name": "stderr",
          "text": [
            "100%|███████████████████████████████████████████████████████████████| 32/32 [21:04<00:00, 39.50s/it]\n"
          ]
        },
        {
          "output_type": "stream",
          "name": "stdout",
          "text": [
            "Valid accuracy: 71 %\n"
          ]
        },
        {
          "output_type": "stream",
          "name": "stderr",
          "text": [
            "100%|███████████████████████████████████████████████████████████████| 32/32 [20:55<00:00, 39.23s/it]\n"
          ]
        },
        {
          "output_type": "stream",
          "name": "stdout",
          "text": [
            "Valid accuracy: 65 %\n"
          ]
        },
        {
          "output_type": "stream",
          "name": "stderr",
          "text": [
            "100%|███████████████████████████████████████████████████████████████| 32/32 [20:51<00:00, 39.11s/it]\n"
          ]
        },
        {
          "output_type": "stream",
          "name": "stdout",
          "text": [
            "Valid accuracy: 75 %\n"
          ]
        },
        {
          "output_type": "stream",
          "name": "stderr",
          "text": [
            "100%|███████████████████████████████████████████████████████████████| 32/32 [21:12<00:00, 39.75s/it]\n"
          ]
        },
        {
          "output_type": "stream",
          "name": "stdout",
          "text": [
            "Valid accuracy: 75 %\n"
          ]
        }
      ]
    },
    {
      "cell_type": "code",
      "source": [
        "epochs=4\n",
        "class PredictAndPlot:\n",
        "    def __init__(self):\n",
        "        self.classes = {i: cat for cat, i in valid_dataset.classes.items()}\n",
        "        correct = total = 0\n",
        "        pointnet = PointNet()\n",
        "        pointnet.load_state_dict(torch.load(\"save_\"+str(epochs)+\".pth\",map_location=torch.device('cpu')))\n",
        "        pointnet.eval()\n",
        "        self.predicted = []\n",
        "        self.actual = []\n",
        "        with torch.no_grad():\n",
        "            for data in tqdm(valid_loader):\n",
        "                inputs, labels = data['pointcloud'].float(), data['category']\n",
        "                outputs,__,__ = pointnet(inputs.transpose(1,2))\n",
        "                _, predicted = torch.max(outputs.data, 1)\n",
        "                total += labels.size(0)\n",
        "                correct += (predicted == labels).sum().item()\n",
        "\n",
        "                self.predicted += list(predicted.numpy())\n",
        "                self.actual += list(labels.numpy())\n",
        "        val_acc = 100. * correct / total\n",
        "        print('Valid accuracy: %d %%' % val_acc)\n",
        "        self.plot()\n",
        "\n",
        "    def plot(self):\n",
        "        cm = confusion_matrix(self.actual,self.predicted)\n",
        "        sns.heatmap(cm,\n",
        "            annot=True,\n",
        "            fmt='g',\n",
        "            xticklabels=self.classes.values(),\n",
        "            yticklabels=self.classes.values())\n",
        "        plt.xlabel('Prediction',fontsize=13)\n",
        "        plt.ylabel('Actual',fontsize=13)\n",
        "        plt.title('Confusion Matrix',fontsize=17)\n",
        "        plt.show()\n",
        "\n",
        "k=PredictAndPlot()"
      ],
      "metadata": {
        "id": "28cbQDSWO1Pu",
        "outputId": "4342b8a1-97d4-4805-cd72-87eaef8cd47a",
        "colab": {
          "base_uri": "https://localhost:8080/",
          "height": 584
        }
      },
      "execution_count": 17,
      "outputs": [
        {
          "output_type": "stream",
          "name": "stderr",
          "text": [
            "100%|██████████| 8/8 [05:36<00:00, 42.07s/it]\n"
          ]
        },
        {
          "output_type": "stream",
          "name": "stdout",
          "text": [
            "Valid accuracy: 76 %\n"
          ]
        },
        {
          "output_type": "display_data",
          "data": {
            "text/plain": [
              "<Figure size 640x480 with 2 Axes>"
            ],
            "image/png": "[encoded data removed]"
          },
          "metadata": {}
        }
      ]
    },
    {
      "cell_type": "code",
      "source": [],
      "metadata": {
        "id": "NWc6XVDr8_3K"
      },
      "execution_count": null,
      "outputs": []
    }
  ]
}