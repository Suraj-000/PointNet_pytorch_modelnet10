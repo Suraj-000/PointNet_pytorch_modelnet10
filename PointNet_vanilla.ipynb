{
  "cells": [
    {
      "cell_type": "code",
      "execution_count": 28,
      "metadata": {
        "colab": {
          "base_uri": "https://localhost:8080/"
        },
        "id": "bJivHOlqAmTu",
        "outputId": "a2381494-72f4-45f2-851d-4a778b8726f1"
      },
      "outputs": [
        {
          "output_type": "stream",
          "name": "stdout",
          "text": [
            "Requirement already satisfied: trimesh in /usr/local/lib/python3.10/dist-packages (3.23.5)\n",
            "Requirement already satisfied: numpy in /usr/local/lib/python3.10/dist-packages (from trimesh) (1.23.5)\n",
            "Requirement already satisfied: path in /usr/local/lib/python3.10/dist-packages (16.7.1)\n",
            "--2023-08-28 10:40:28--  http://3dvision.princeton.edu/projects/2014/3DShapeNets/ModelNet10.zip\n",
            "Resolving 3dvision.princeton.edu (3dvision.princeton.edu)... 128.112.136.67\n",
            "Connecting to 3dvision.princeton.edu (3dvision.princeton.edu)|128.112.136.67|:80... connected.\n",
            "HTTP request sent, awaiting response... 302 Found\n",
            "Location: https://3dvision.princeton.edu/projects/2014/3DShapeNets/ModelNet10.zip [following]\n",
            "--2023-08-28 10:40:29--  https://3dvision.princeton.edu/projects/2014/3DShapeNets/ModelNet10.zip\n",
            "Connecting to 3dvision.princeton.edu (3dvision.princeton.edu)|128.112.136.67|:443... connected.\n",
            "HTTP request sent, awaiting response... 200 OK\n",
            "Length: 473402300 (451M) [application/zip]\n",
            "Saving to: ‘ModelNet10.zip.1’\n",
            "\n",
            "ModelNet10.zip.1    100%[===================>] 451.47M  12.4MB/s    in 38s     \n",
            "\n",
            "2023-08-28 10:41:08 (11.8 MB/s) - ‘ModelNet10.zip.1’ saved [473402300/473402300]\n",
            "\n",
            "replace ModelNet10/.DS_Store? [y]es, [n]o, [A]ll, [N]one, [r]ename: n\n",
            "replace __MACOSX/ModelNet10/._.DS_Store? [y]es, [n]o, [A]ll, [N]one, [r]ename: n\n",
            "replace ModelNet10/bathtub/test/bathtub_0107.off? [y]es, [n]o, [A]ll, [N]one, [r]ename: n\n",
            "replace __MACOSX/ModelNet10/bathtub/test/._bathtub_0107.off? [y]es, [n]o, [A]ll, [N]one, [r]ename: A\n",
            "n\n"
          ]
        }
      ],
      "source": [
        "!pip install trimesh\n",
        "!pip install path\n",
        "!pip install thop\n",
        "!wget http://3dvision.princeton.edu/projects/2014/3DShapeNets/ModelNet10.zip\n",
        "!unzip -q ModelNet10.zip;"
      ]
    },
    {
      "cell_type": "code",
      "execution_count": 29,
      "metadata": {
        "id": "n9KWGYBOAPXt"
      },
      "outputs": [],
      "source": [
        "import trimesh\n",
        "from path import Path\n",
        "import numpy as np\n",
        "import math\n",
        "import random\n",
        "import os\n",
        "import torch\n",
        "from glob import glob\n",
        "import scipy.spatial.distance\n",
        "from torch.utils.data import Dataset, DataLoader\n",
        "from torchvision import transforms, utils\n",
        "import plotly.graph_objects as go\n",
        "import torch\n",
        "import torch.nn as nn\n",
        "import numpy as np\n",
        "import torch.nn.functional as F\n",
        "from sklearn.metrics import confusion_matrix\n",
        "from tqdm import tqdm\n",
        "from torchsummary import summary\n",
        "from thop import profile\n",
        "import matplotlib.pyplot as plt\n",
        "import seaborn as sns"
      ]
    },
    {
      "cell_type": "code",
      "execution_count": 30,
      "metadata": {
        "id": "LU54F4jfBRHA"
      },
      "outputs": [],
      "source": [
        "if torch.cuda.is_available():\n",
        "  if_cuda=True\n",
        "else:\n",
        "  if_cuda=False\n",
        "seed_value=0\n",
        "np.random.seed(seed_value) # cpu vars\n",
        "torch.manual_seed(seed_value) # cpu  vars\n",
        "random.seed(seed_value) # Python\n",
        "os.environ['PYTHONHASHSEED']=str(seed_value)\n",
        "if if_cuda:\n",
        "    torch.cuda.manual_seed(seed_value)\n",
        "    torch.cuda.manual_seed_all(seed_value) # gpu vars\n",
        "    torch.backends.cudnn.deterministic = True\n",
        "    torch.backends.cudnn.benchmark = False"
      ]
    },
    {
      "cell_type": "code",
      "execution_count": 31,
      "metadata": {
        "id": "bukZLuvcAxM1"
      },
      "outputs": [],
      "source": [
        "class SamplePoints:\n",
        "    def randomSample(self):\n",
        "        indexes = random.sample(range(self.points.shape[0]), self.npoint)\n",
        "        return self.points[indexes]\n",
        "\n",
        "    def farthestPointSample(self):\n",
        "        N, D = self.points.shape\n",
        "        xyz = self.points[:,:3]\n",
        "        centroids = np.zeros((self.npoint,))\n",
        "        distance = np.ones((N,)) * 1e10\n",
        "        farthest = np.random.randint(0, N)\n",
        "        for i in range(self.npoint):\n",
        "            centroids[i] = farthest\n",
        "            centroid = xyz[farthest, :]\n",
        "            dist = np.sum((xyz - centroid) ** 2, -1)\n",
        "            mask = dist < distance\n",
        "            distance[mask] = dist[mask]\n",
        "            farthest = np.argmax(distance, -1)\n",
        "        points = self.points[centroids.astype(np.int32)]\n",
        "        return points\n",
        "\n",
        "    def normalize(self,spc):\n",
        "        npc = spc - np.mean(spc, axis=0)\n",
        "        npc /= np.max(np.linalg.norm(npc, axis=1))\n",
        "        return npc\n",
        "\n",
        "    def totensor(self,p):\n",
        "        return torch.from_numpy(p)\n",
        "\n",
        "    def RandomRotation(self,pc):\n",
        "        theta = random.random() * 2. * math.pi\n",
        "        rot_matrix = np.array([[ math.cos(theta), -math.sin(theta),    0],\n",
        "                               [ math.sin(theta),  math.cos(theta),    0],\n",
        "                               [0,                             0,      1]])\n",
        "        rot_pointcloud = rot_matrix.dot(pc.T).T\n",
        "        return  rot_pointcloud\n",
        "\n",
        "    def RandomNoise(self,pc):\n",
        "        noise = np.random.normal(0, 0.02, (pc.shape))\n",
        "        npc = pc + noise\n",
        "        return  npc\n",
        "\n",
        "    def __init__(self,points,npoints=1024):\n",
        "        self.points=points\n",
        "        self.npoint=npoints"
      ]
    },
    {
      "cell_type": "code",
      "execution_count": 32,
      "metadata": {
        "id": "N00tE9RAAxhJ"
      },
      "outputs": [],
      "source": [
        "\n",
        "class ModelNet10Datset(Dataset):\n",
        "    def __init__(self, root_dir, valid=False, folder=\"train\"):\n",
        "        self.root_dir = root_dir\n",
        "        folders = [dir for dir in sorted(os.listdir(root_dir)) if os.path.isdir(root_dir/dir)]\n",
        "        self.classes = {folder: i for i, folder in enumerate(folders)}\n",
        "        self.valid = valid\n",
        "        self.files = []\n",
        "        for category in self.classes.keys():\n",
        "            new_dir = root_dir/Path(category)/folder\n",
        "            for file in os.listdir(new_dir):\n",
        "                if file.endswith('.off'):\n",
        "                    sample = {}\n",
        "                    sample['pcd_path'] = new_dir/file\n",
        "                    sample['category'] = category\n",
        "                    self.files.append(sample)\n",
        "\n",
        "    def __len__(self):\n",
        "        return len(self.files)\n",
        "\n",
        "    def __preproc__(self, file):\n",
        "        pcd = trimesh.load(file)\n",
        "        sampled_pc = trimesh.sample.sample_surface(pcd,5000)\n",
        "        pc = sampled_pc[0]\n",
        "        k=SamplePoints(pc)\n",
        "        pc=k.farthestPointSample()\n",
        "        pc=k.normalize(pc)\n",
        "        if self.valid == False:\n",
        "            pc=k.RandomRotation(pc)\n",
        "            pc=k.RandomNoise(pc)\n",
        "        pc=k.totensor(pc)\n",
        "        return pc\n",
        "\n",
        "    def __getitem__(self, idx):\n",
        "        pcd_path = self.files[idx]['pcd_path']\n",
        "        category = self.files[idx]['category']\n",
        "\n",
        "        pointcloud = self.__preproc__(pcd_path)\n",
        "\n",
        "        return {'pointcloud': pointcloud, 'category': self.classes[category]}"
      ]
    },
    {
      "cell_type": "code",
      "execution_count": 33,
      "metadata": {
        "id": "zW71F3jHAxj_"
      },
      "outputs": [],
      "source": [
        "\n",
        "class PointNet_vanilla(nn.Module):\n",
        "    def __init__(self,k=3,classes=10):\n",
        "        super().__init__()\n",
        "        self.conv1 = nn.Conv1d(k,64,1)\n",
        "        self.conv2 = nn.Conv1d(64,64,1)\n",
        "        self.conv3 = nn.Conv1d(64,64,1)\n",
        "        self.conv4 = nn.Conv1d(64,128,1)\n",
        "        self.conv5 = nn.Conv1d(128,1024,1)\n",
        "        self.bn1 = nn.BatchNorm1d(64)\n",
        "        self.bn2 = nn.BatchNorm1d(64)\n",
        "        self.bn3 = nn.BatchNorm1d(64)\n",
        "        self.bn4 = nn.BatchNorm1d(128)\n",
        "        self.bn5 = nn.BatchNorm1d(1024)\n",
        "        self.fc1 = nn.Linear(1024, 516)\n",
        "        self.fc2 = nn.Linear(516, 256)\n",
        "        self.fc3 = nn.Linear(256, classes)\n",
        "\n",
        "    def forward(self,input):\n",
        "        input = F.relu(self.bn1(self.conv1(input)))\n",
        "        input = F.relu(self.bn2(self.conv2(input)))\n",
        "        input = F.relu(self.bn3(self.conv3(input)))\n",
        "        input = F.relu(self.bn4(self.conv4(input)))\n",
        "        input = F.relu(self.bn5(self.conv5(input)))\n",
        "        input = F.adaptive_max_pool1d(input, 1).squeeze(-1)\n",
        "        input=F.relu(self.fc1(input))\n",
        "        input=F.relu(self.fc2(input))\n",
        "        input=F.relu(self.fc3(input))\n",
        "        return input\n"
      ]
    },
    {
      "cell_type": "code",
      "execution_count": 34,
      "metadata": {
        "id": "TlXI7QjXP2Tb",
        "colab": {
          "base_uri": "https://localhost:8080/"
        },
        "outputId": "c2181475-1769-4867-aaad-e51022d1fdf7"
      },
      "outputs": [
        {
          "output_type": "stream",
          "name": "stdout",
          "text": [
            "cuda:0\n"
          ]
        }
      ],
      "source": [
        "device = torch.device(\"cuda:0\" if torch.cuda.is_available() else \"cpu\")\n",
        "print(device)"
      ]
    },
    {
      "cell_type": "code",
      "execution_count": 35,
      "metadata": {
        "colab": {
          "base_uri": "https://localhost:8080/"
        },
        "id": "wrNJQh4dCUJk",
        "outputId": "b0349e9b-a182-461a-bffd-330ae6b89795"
      },
      "outputs": [
        {
          "output_type": "stream",
          "name": "stdout",
          "text": [
            "----------------------------------------------------------------\n",
            "        Layer (type)               Output Shape         Param #\n",
            "================================================================\n",
            "            Conv1d-1             [-1, 64, 1024]             256\n",
            "       BatchNorm1d-2             [-1, 64, 1024]             128\n",
            "            Conv1d-3             [-1, 64, 1024]           4,160\n",
            "       BatchNorm1d-4             [-1, 64, 1024]             128\n",
            "            Conv1d-5             [-1, 64, 1024]           4,160\n",
            "       BatchNorm1d-6             [-1, 64, 1024]             128\n",
            "            Conv1d-7            [-1, 128, 1024]           8,320\n",
            "       BatchNorm1d-8            [-1, 128, 1024]             256\n",
            "            Conv1d-9           [-1, 1024, 1024]         132,096\n",
            "      BatchNorm1d-10           [-1, 1024, 1024]           2,048\n",
            "           Linear-11                  [-1, 516]         528,900\n",
            "           Linear-12                  [-1, 256]         132,352\n",
            "           Linear-13                   [-1, 10]           2,570\n",
            "================================================================\n",
            "Total params: 815,502\n",
            "Trainable params: 815,502\n",
            "Non-trainable params: 0\n",
            "----------------------------------------------------------------\n",
            "Input size (MB): 0.01\n",
            "Forward/backward pass size (MB): 21.01\n",
            "Params size (MB): 3.11\n",
            "Estimated Total Size (MB): 24.13\n",
            "----------------------------------------------------------------\n"
          ]
        }
      ],
      "source": [
        "pointnet=PointNet_vanilla()\n",
        "pointnet.to(device)\n",
        "optimizer = torch.optim.Adam(pointnet.parameters(), lr=0.0001)\n",
        "summary(pointnet,(3,1024))"
      ]
    },
    {
      "cell_type": "code",
      "source": [
        "input = torch.randn(32,3, 1024)\n",
        "model=PointNet_vanilla()\n",
        "macs, params = profile(model, inputs=(input, ))\n",
        "macs"
      ],
      "metadata": {
        "colab": {
          "base_uri": "https://localhost:8080/"
        },
        "id": "I_3oP5RFoddQ",
        "outputId": "03166592-0e20-4415-84c3-746d00e79d2c"
      },
      "execution_count": 44,
      "outputs": [
        {
          "output_type": "stream",
          "name": "stdout",
          "text": [
            "[INFO] Register count_convNd() for <class 'torch.nn.modules.conv.Conv1d'>.\n",
            "[INFO] Register count_normalization() for <class 'torch.nn.modules.batchnorm.BatchNorm1d'>.\n",
            "[INFO] Register count_linear() for <class 'torch.nn.modules.linear.Linear'>.\n"
          ]
        },
        {
          "output_type": "execute_result",
          "data": {
            "text/plain": [
              "5035507712.0"
            ]
          },
          "metadata": {},
          "execution_count": 44
        }
      ]
    },
    {
      "cell_type": "code",
      "execution_count": 23,
      "metadata": {
        "colab": {
          "base_uri": "https://localhost:8080/"
        },
        "id": "aVBaGh2yCS4m",
        "outputId": "477f1ba4-8bc3-46ef-e492-309c73bff6e4"
      },
      "outputs": [
        {
          "output_type": "execute_result",
          "data": {
            "text/plain": [
              "{0: 'bathtub',\n",
              " 1: 'bed',\n",
              " 2: 'chair',\n",
              " 3: 'desk',\n",
              " 4: 'dresser',\n",
              " 5: 'monitor',\n",
              " 6: 'night_stand',\n",
              " 7: 'sofa',\n",
              " 8: 'table',\n",
              " 9: 'toilet'}"
            ]
          },
          "metadata": {},
          "execution_count": 23
        }
      ],
      "source": [
        "path=Path(\"ModelNet10\")\n",
        "train_dataset = ModelNet10Datset(path)\n",
        "valid_dataset = ModelNet10Datset(path, valid=True, folder='test')\n",
        "classes = {i: cat for cat, i in train_dataset.classes.items()}\n",
        "classes"
      ]
    },
    {
      "cell_type": "code",
      "execution_count": 24,
      "metadata": {
        "colab": {
          "base_uri": "https://localhost:8080/"
        },
        "id": "IwAGAZGsCT93",
        "outputId": "fcfda6a7-7194-4fbf-920f-790e90c8e7c1"
      },
      "outputs": [
        {
          "output_type": "stream",
          "name": "stdout",
          "text": [
            "Train dataset size:  3991\n",
            "Valid dataset size:  908\n",
            "Number of classes:  10\n",
            "Sample pointcloud shape:  torch.Size([1024, 3])\n",
            "Class:  bathtub\n"
          ]
        }
      ],
      "source": [
        "print('Train dataset size: ', len(train_dataset))\n",
        "print('Valid dataset size: ', len(valid_dataset))\n",
        "print('Number of classes: ', len(train_dataset.classes))\n",
        "print('Sample pointcloud shape: ', train_dataset[0]['pointcloud'].size())\n",
        "print('Class: ',classes[train_dataset[0]['category']])"
      ]
    },
    {
      "cell_type": "code",
      "execution_count": 25,
      "metadata": {
        "id": "yJTUC2yHCUGu"
      },
      "outputs": [],
      "source": [
        "batch_size=64\n",
        "epochs=3\n",
        "train_loader = DataLoader(dataset=train_dataset, batch_size=batch_size, shuffle=True,drop_last=False)\n",
        "valid_loader = DataLoader(dataset=valid_dataset, batch_size=batch_size,drop_last=False,shuffle=True)"
      ]
    },
    {
      "cell_type": "code",
      "execution_count": 26,
      "metadata": {
        "colab": {
          "base_uri": "https://localhost:8080/"
        },
        "id": "SClaMsC-Axmm",
        "outputId": "42d1bdb7-ed2b-4c73-c694-cb24cac61ba5"
      },
      "outputs": [
        {
          "output_type": "stream",
          "name": "stderr",
          "text": [
            " 14%|█████████▏                                                      | 9/63 [02:36<14:58, 16.64s/it]"
          ]
        },
        {
          "output_type": "stream",
          "name": "stdout",
          "text": [
            "[Epoch: 1, Batch:   10 /   63], loss: 1.905 mean accuracy: 0.347222\n"
          ]
        },
        {
          "output_type": "stream",
          "name": "stderr",
          "text": [
            " 30%|███████████████████                                            | 19/63 [05:26<12:33, 17.13s/it]"
          ]
        },
        {
          "output_type": "stream",
          "name": "stdout",
          "text": [
            "[Epoch: 1, Batch:   20 /   63], loss: 1.883 mean accuracy: 0.391447\n"
          ]
        },
        {
          "output_type": "stream",
          "name": "stderr",
          "text": [
            " 46%|█████████████████████████████                                  | 29/63 [08:38<10:21, 18.26s/it]"
          ]
        },
        {
          "output_type": "stream",
          "name": "stdout",
          "text": [
            "[Epoch: 1, Batch:   30 /   63], loss: 1.669 mean accuracy: 0.427263\n"
          ]
        },
        {
          "output_type": "stream",
          "name": "stderr",
          "text": [
            " 62%|███████████████████████████████████████                        | 39/63 [11:56<07:49, 19.54s/it]"
          ]
        },
        {
          "output_type": "stream",
          "name": "stdout",
          "text": [
            "[Epoch: 1, Batch:   40 /   63], loss: 1.590 mean accuracy: 0.458333\n"
          ]
        },
        {
          "output_type": "stream",
          "name": "stderr",
          "text": [
            " 78%|█████████████████████████████████████████████████              | 49/63 [15:04<04:43, 20.26s/it]"
          ]
        },
        {
          "output_type": "stream",
          "name": "stdout",
          "text": [
            "[Epoch: 1, Batch:   50 /   63], loss: 1.342 mean accuracy: 0.487245\n"
          ]
        },
        {
          "output_type": "stream",
          "name": "stderr",
          "text": [
            " 94%|███████████████████████████████████████████████████████████    | 59/63 [18:55<01:20, 20.10s/it]"
          ]
        },
        {
          "output_type": "stream",
          "name": "stdout",
          "text": [
            "[Epoch: 1, Batch:   60 /   63], loss: 1.344 mean accuracy: 0.505561\n"
          ]
        },
        {
          "output_type": "stream",
          "name": "stderr",
          "text": [
            "100%|███████████████████████████████████████████████████████████████| 63/63 [19:56<00:00, 18.99s/it]\n",
            "100%|██████████| 15/15 [03:52<00:00, 15.53s/it]\n"
          ]
        },
        {
          "output_type": "stream",
          "name": "stdout",
          "text": [
            "Valid accuracy: 41 %\n"
          ]
        },
        {
          "output_type": "stream",
          "name": "stderr",
          "text": [
            " 14%|█████████▏                                                      | 9/63 [02:45<16:52, 18.75s/it]"
          ]
        },
        {
          "output_type": "stream",
          "name": "stdout",
          "text": [
            "[Epoch: 2, Batch:   10 /   63], loss: 1.075 mean accuracy: 0.619792\n"
          ]
        },
        {
          "output_type": "stream",
          "name": "stderr",
          "text": [
            " 30%|███████████████████                                            | 19/63 [05:31<11:56, 16.29s/it]"
          ]
        },
        {
          "output_type": "stream",
          "name": "stdout",
          "text": [
            "[Epoch: 2, Batch:   20 /   63], loss: 1.238 mean accuracy: 0.606908\n"
          ]
        },
        {
          "output_type": "stream",
          "name": "stderr",
          "text": [
            " 46%|█████████████████████████████                                  | 29/63 [08:16<09:09, 16.16s/it]"
          ]
        },
        {
          "output_type": "stream",
          "name": "stdout",
          "text": [
            "[Epoch: 2, Batch:   30 /   63], loss: 1.169 mean accuracy: 0.607759\n"
          ]
        },
        {
          "output_type": "stream",
          "name": "stderr",
          "text": [
            " 62%|███████████████████████████████████████                        | 39/63 [11:14<06:59, 17.48s/it]"
          ]
        },
        {
          "output_type": "stream",
          "name": "stdout",
          "text": [
            "[Epoch: 2, Batch:   40 /   63], loss: 1.160 mean accuracy: 0.601763\n"
          ]
        },
        {
          "output_type": "stream",
          "name": "stderr",
          "text": [
            " 78%|█████████████████████████████████████████████████              | 49/63 [14:07<03:59, 17.09s/it]"
          ]
        },
        {
          "output_type": "stream",
          "name": "stdout",
          "text": [
            "[Epoch: 2, Batch:   50 /   63], loss: 1.102 mean accuracy: 0.603635\n"
          ]
        },
        {
          "output_type": "stream",
          "name": "stderr",
          "text": [
            " 94%|███████████████████████████████████████████████████████████    | 59/63 [17:01<01:07, 16.79s/it]"
          ]
        },
        {
          "output_type": "stream",
          "name": "stdout",
          "text": [
            "[Epoch: 2, Batch:   60 /   63], loss: 1.116 mean accuracy: 0.603019\n"
          ]
        },
        {
          "output_type": "stream",
          "name": "stderr",
          "text": [
            "100%|███████████████████████████████████████████████████████████████| 63/63 [18:01<00:00, 17.16s/it]\n",
            "100%|██████████| 15/15 [03:48<00:00, 15.27s/it]\n"
          ]
        },
        {
          "output_type": "stream",
          "name": "stdout",
          "text": [
            "Valid accuracy: 41 %\n"
          ]
        },
        {
          "output_type": "stream",
          "name": "stderr",
          "text": [
            " 14%|█████████▏                                                      | 9/63 [02:42<16:30, 18.35s/it]"
          ]
        },
        {
          "output_type": "stream",
          "name": "stdout",
          "text": [
            "[Epoch: 3, Batch:   10 /   63], loss: 0.908 mean accuracy: 0.633681\n"
          ]
        },
        {
          "output_type": "stream",
          "name": "stderr",
          "text": [
            " 30%|███████████████████                                            | 19/63 [05:30<12:07, 16.53s/it]"
          ]
        },
        {
          "output_type": "stream",
          "name": "stdout",
          "text": [
            "[Epoch: 3, Batch:   20 /   63], loss: 1.041 mean accuracy: 0.620888\n"
          ]
        },
        {
          "output_type": "stream",
          "name": "stderr",
          "text": [
            " 46%|█████████████████████████████                                  | 29/63 [08:21<09:40, 17.07s/it]"
          ]
        },
        {
          "output_type": "stream",
          "name": "stdout",
          "text": [
            "[Epoch: 3, Batch:   30 /   63], loss: 1.013 mean accuracy: 0.623384\n"
          ]
        },
        {
          "output_type": "stream",
          "name": "stderr",
          "text": [
            " 62%|███████████████████████████████████████                        | 39/63 [11:10<06:53, 17.22s/it]"
          ]
        },
        {
          "output_type": "stream",
          "name": "stdout",
          "text": [
            "[Epoch: 3, Batch:   40 /   63], loss: 1.095 mean accuracy: 0.615385\n"
          ]
        },
        {
          "output_type": "stream",
          "name": "stderr",
          "text": [
            " 78%|█████████████████████████████████████████████████              | 49/63 [14:02<04:03, 17.43s/it]"
          ]
        },
        {
          "output_type": "stream",
          "name": "stdout",
          "text": [
            "[Epoch: 3, Batch:   50 /   63], loss: 0.991 mean accuracy: 0.617985\n"
          ]
        },
        {
          "output_type": "stream",
          "name": "stderr",
          "text": [
            " 94%|███████████████████████████████████████████████████████████    | 59/63 [16:43<01:05, 16.39s/it]"
          ]
        },
        {
          "output_type": "stream",
          "name": "stdout",
          "text": [
            "[Epoch: 3, Batch:   60 /   63], loss: 1.015 mean accuracy: 0.619439\n"
          ]
        },
        {
          "output_type": "stream",
          "name": "stderr",
          "text": [
            "100%|███████████████████████████████████████████████████████████████| 63/63 [17:39<00:00, 16.81s/it]\n",
            "100%|██████████| 15/15 [03:44<00:00, 14.99s/it]"
          ]
        },
        {
          "output_type": "stream",
          "name": "stdout",
          "text": [
            "Valid accuracy: 42 %\n"
          ]
        },
        {
          "output_type": "stream",
          "name": "stderr",
          "text": [
            "\n"
          ]
        }
      ],
      "source": [
        "for epoch in range(epochs):\n",
        "    pointnet.train()\n",
        "    running_loss = 0.0\n",
        "    mean_correct=[]\n",
        "    i=0\n",
        "    for data in tqdm(train_loader,ncols= 100):\n",
        "        inputs, labels = data['pointcloud'].to(device).float(), data['category'].to(device)\n",
        "        optimizer.zero_grad()\n",
        "        outputs= pointnet(inputs.transpose(1,2))\n",
        "\n",
        "        loss =F.cross_entropy(outputs,labels)\n",
        "        loss.backward()\n",
        "        optimizer.step()\n",
        "\n",
        "        pred_choice=outputs.data.max(1)[1]\n",
        "        correct=pred_choice.eq(labels.data).cpu().sum()\n",
        "        mean_correct.append(correct.item()/float(batch_size))\n",
        "        running_loss += loss.item()\n",
        "        i=i+1\n",
        "        if i % 10 == 9:\n",
        "          print('[Epoch: %d, Batch: %4d / %4d], loss: %.3f mean accuracy: %f' %\n",
        "            (epoch + 1, i + 1, len(train_loader), running_loss / 10, np.mean(mean_correct)))\n",
        "          running_loss = 0.0\n",
        "\n",
        "    pointnet.eval()\n",
        "    correct = total = 0\n",
        "    # validation\n",
        "    with torch.no_grad():\n",
        "        for data in tqdm(valid_loader):\n",
        "            inputs, labels = data['pointcloud'].to(device).float(), data['category'].to(device)\n",
        "            outputs = pointnet(inputs.transpose(1,2))\n",
        "            _, predicted = torch.max(outputs.data, 1)\n",
        "            total += labels.size(0)\n",
        "            correct += (predicted == labels).sum().item()\n",
        "    val_acc = 100. * correct / total\n",
        "    print('Valid accuracy: %d %%' % val_acc)\n",
        "\n",
        "    # save the model\n",
        "    torch.save(pointnet.state_dict(), \"save_\"+str(epoch+1)+\".pth\")\n"
      ]
    },
    {
      "cell_type": "code",
      "execution_count": 27,
      "metadata": {
        "colab": {
          "base_uri": "https://localhost:8080/",
          "height": 583
        },
        "id": "i9pjJ-UhDDWh",
        "outputId": "727636d3-555d-4c72-ad0e-49552695786c"
      },
      "outputs": [
        {
          "output_type": "stream",
          "name": "stderr",
          "text": [
            "100%|██████████| 15/15 [04:15<00:00, 17.02s/it]\n"
          ]
        },
        {
          "output_type": "stream",
          "name": "stdout",
          "text": [
            "Valid accuracy: 42 %\n"
          ]
        },
        {
          "output_type": "display_data",
          "data": {
            "text/plain": [
              "<Figure size 640x480 with 2 Axes>"
            ],
            "image/png": "[encoded data removed]"
          },
          "metadata": {}
        }
      ],
      "source": [
        "class PredictAndPlot:\n",
        "    def __init__(self):\n",
        "        self.classes = {i: cat for cat, i in valid_dataset.classes.items()}\n",
        "        correct = total = 0\n",
        "        pointnet = PointNet_vanilla()\n",
        "        pointnet.load_state_dict(torch.load(\"save_\"+str(epochs)+\".pth\",map_location=torch.device('cpu')))\n",
        "        pointnet.eval()\n",
        "        self.predicted = []\n",
        "        self.actual = []\n",
        "        with torch.no_grad():\n",
        "            for data in tqdm(valid_loader):\n",
        "                inputs, labels = data['pointcloud'].float(), data['category']\n",
        "                outputs = pointnet(inputs.transpose(1,2))\n",
        "                _, predicted = torch.max(outputs.data, 1)\n",
        "                total += labels.size(0)\n",
        "                correct += (predicted == labels).sum().item()\n",
        "\n",
        "                self.predicted += list(predicted.numpy())\n",
        "                self.actual += list(labels.numpy())\n",
        "        val_acc = 100. * correct / total\n",
        "        print('Valid accuracy: %d %%' % val_acc)\n",
        "        self.plot()\n",
        "\n",
        "    def plot(self):\n",
        "        cm = confusion_matrix(self.actual,self.predicted)\n",
        "        sns.heatmap(cm,\n",
        "            annot=True,\n",
        "            fmt='g',\n",
        "            xticklabels=self.classes.values(),\n",
        "            yticklabels=self.classes.values())\n",
        "        plt.xlabel('Prediction',fontsize=13)\n",
        "        plt.ylabel('Actual',fontsize=13)\n",
        "        plt.title('Confusion Matrix',fontsize=17)\n",
        "        plt.show()\n",
        "\n",
        "k=PredictAndPlot()"
      ]
    },
    {
      "cell_type": "code",
      "execution_count": null,
      "metadata": {
        "id": "02hWNnOJSXZm"
      },
      "outputs": [],
      "source": []
    }
  ],
  "metadata": {
    "accelerator": "GPU",
    "colab": {
      "provenance": []
    },
    "kernelspec": {
      "display_name": "Python 3",
      "name": "python3"
    },
    "language_info": {
      "name": "python"
    }
  },
  "nbformat": 4,
  "nbformat_minor": 0
}